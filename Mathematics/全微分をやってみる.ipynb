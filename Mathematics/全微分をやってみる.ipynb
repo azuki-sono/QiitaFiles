{
 "cells": [
  {
   "cell_type": "markdown",
   "metadata": {},
   "source": [
    "# はじめに\n",
    "\n",
    "SymPy を使って全微分をしてみたかったのですが，\n",
    "それらしい記事が見つからなかったため試行錯誤してやってみることにしました。"
   ]
  },
  {
   "cell_type": "markdown",
   "metadata": {},
   "source": [
    "# 設定\n",
    "\n",
    "## インテリセンスの有効化\n",
    "\n",
    "Jupyter Notebook ではデフォルトでインテリセンスが有効になっておらず，不便なため有効化します。\n"
   ]
  },
  {
   "cell_type": "code",
   "execution_count": 231,
   "metadata": {
    "collapsed": true
   },
   "outputs": [],
   "source": [
    "%config IPCompleter.greedy=True"
   ]
  },
  {
   "cell_type": "markdown",
   "metadata": {},
   "source": [
    "# 使用するパッケージなど"
   ]
  },
  {
   "cell_type": "markdown",
   "metadata": {},
   "source": [
    "## SymPy\n",
    "\n",
    "数式を扱うので当該パッケージを使用します。\n",
    "init_printing は，数式を表示する際に使うようですが，よくわからないです(´・ω・｀)"
   ]
  },
  {
   "cell_type": "code",
   "execution_count": 232,
   "metadata": {
    "collapsed": false
   },
   "outputs": [],
   "source": [
    "import sympy\n",
    "from sympy import plot, init_printing, var, symbols, Eq, Function, Symbol, simplify, expand, collect\n",
    "\n",
    "init_printing()"
   ]
  },
  {
   "cell_type": "markdown",
   "metadata": {},
   "source": [
    "## その他\n",
    "\n",
    "- operator … 演算子\n",
    "- functools … リストを操作する際に使用\n",
    "- reduce … 総和とか総乗に使用\n"
   ]
  },
  {
   "cell_type": "code",
   "execution_count": 233,
   "metadata": {
    "collapsed": true
   },
   "outputs": [],
   "source": [
    "from operator import add\n",
    "from functools import reduce"
   ]
  },
  {
   "cell_type": "markdown",
   "metadata": {},
   "source": [
    "# 変数の定義\n",
    "\n",
    "使用する変数を定義します。\n",
    "一部しか使わないのですが，とりあえず a ～ z を対象にします。"
   ]
  },
  {
   "cell_type": "code",
   "execution_count": 234,
   "metadata": {
    "collapsed": false
   },
   "outputs": [
    {
     "data": {
      "image/png": "[encoded data removed]",
      "text/latex": [
       "$$\\left ( a, \\quad b, \\quad c, \\quad d, \\quad e, \\quad f, \\quad g, \\quad h, \\quad i, \\quad j, \\quad k, \\quad l, \\quad m, \\quad n, \\quad o, \\quad p, \\quad q, \\quad r, \\quad s, \\quad t, \\quad u, \\quad v, \\quad w, \\quad x, \\quad y, \\quad z\\right )$$"
      ],
      "text/plain": [
       "(a, b, c, d, e, f, g, h, i, j, k, l, m, n, o, p, q, r, s, t, u, v, w, x, y, z)"
      ]
     },
     "execution_count": 234,
     "metadata": {},
     "output_type": "execute_result"
    }
   ],
   "source": [
    "var(\"a:z\")"
   ]
  },
  {
   "cell_type": "markdown",
   "metadata": {},
   "source": [
    "# 関数の定義\n",
    "\n",
    "全微分する関数を定義します。\n",
    "\n",
    "左辺は別に関数として定義しなくても良いのですが，\n",
    "なんとなくそれっぽい見た目にしたかったためですね(´・ω・｀)"
   ]
  },
  {
   "cell_type": "code",
   "execution_count": 235,
   "metadata": {
    "collapsed": false,
    "scrolled": false
   },
   "outputs": [
    {
     "data": {
      "image/png": "[encoded data removed]",
      "text/latex": [
       "$$f{\\left (x,y,z \\right )} = 4 x^{0.25} + x^{2} y + y^{3} - 7 z^{6}$$"
      ],
      "text/plain": [
       "                0.25    2      3      6\n",
       "f(x, y, z) = 4⋅x     + x ⋅y + y  - 7⋅z "
      ]
     },
     "execution_count": 235,
     "metadata": {},
     "output_type": "execute_result"
    }
   ],
   "source": [
    "# 関数の左辺を定義する\n",
    "f = sympy.symbols(\"f\", cls = Function)\n",
    "f = f(x, y, z)\n",
    "f_l_ = f\n",
    "\n",
    "## 関数の右辺を定義する\n",
    "f_r_ = 4 * x ** (1 / 4) + x ** 2 * y + y ** 3 - 7 * z ** 6\n",
    "\n",
    "# 関数を定義する\n",
    "f_ = sympy.Eq(f_l_, f_r_)\n",
    "f_"
   ]
  },
  {
   "cell_type": "markdown",
   "metadata": {},
   "source": [
    "定義できましたね。\n",
    "\n",
    "本当は指数を分数で表示したいところですが，\n",
    "本題ではないのでそのままにします。"
   ]
  },
  {
   "cell_type": "markdown",
   "metadata": {},
   "source": [
    "# 全微分する\n",
    "\n",
    "## 対象の関数に使われている変数をリスト化する\n",
    "\n",
    "全微分する対象の関数の右辺に登場する変数をリスト化します。\n",
    "ついでに，微分記号とくっついた変数も定義します。"
   ]
  },
  {
   "cell_type": "code",
   "execution_count": 236,
   "metadata": {
    "collapsed": false
   },
   "outputs": [
    {
     "data": {
      "image/png": "[encoded data removed]",
      "text/latex": [
       "$$\\left [ dy, \\quad dx, \\quad dz\\right ]$$"
      ],
      "text/plain": [
       "[dy, dx, dz]"
      ]
     },
     "execution_count": 236,
     "metadata": {},
     "output_type": "execute_result"
    }
   ],
   "source": [
    "sym_list = list(f_.rhs.atoms(Symbol))\n",
    "[var(str(d) + str(li)) for li in sym_list]"
   ]
  },
  {
   "cell_type": "markdown",
   "metadata": {},
   "source": [
    "## 偏微分して結果を足し合わせる\n",
    "\n",
    "作成した変数のリストに含まれる変数の分だけ偏微分し，\n",
    "微分記号のついた変数を掛けたものを加算します。\n",
    "\n",
    "また，今回は左辺が関数だけなので右辺だけ全微分し，\n",
    "左辺は微分記号 d を付けるだけにします。\n",
    "※この点については後で触れます。"
   ]
  },
  {
   "cell_type": "code",
   "execution_count": 237,
   "metadata": {
    "collapsed": false,
    "scrolled": true
   },
   "outputs": [
    {
     "data": {
      "image/png": "[encoded data removed]",
      "text/latex": [
       "$$d f{\\left (x,y,z \\right )} = dx \\left(\\frac{1.0}{x^{0.75}} + 2 x y\\right) + dy \\left(x^{2} + 3 y^{2}\\right) - 42 dz z^{5}$$"
      ],
      "text/plain": [
       "                  ⎛     -0.75        ⎞      ⎛ 2      2⎞          5\n",
       "d⋅f(x, y, z) = dx⋅⎝1.0⋅x      + 2⋅x⋅y⎠ + dy⋅⎝x  + 3⋅y ⎠ - 42⋅dz⋅z "
      ]
     },
     "execution_count": 237,
     "metadata": {},
     "output_type": "execute_result"
    }
   ],
   "source": [
    "rdf_ = [(sympy.diff(f_.rhs, li)) * sympy.symbols(str(d) + str(li)) for li in sym_list]\n",
    "df_ = sympy.Eq(d * f, reduce(add, [li for li in rdf_]))\n",
    "df_"
   ]
  },
  {
   "cell_type": "markdown",
   "metadata": {
    "collapsed": true
   },
   "source": [
    "# ちょっと遊んでみる"
   ]
  },
  {
   "cell_type": "markdown",
   "metadata": {
    "collapsed": true
   },
   "source": [
    "## dz = 0 を求める\n",
    "\n",
    "全微分した関数に対し，dz = 0 を代入します。"
   ]
  },
  {
   "cell_type": "code",
   "execution_count": 238,
   "metadata": {
    "collapsed": false
   },
   "outputs": [
    {
     "data": {
      "image/png": "[encoded data removed]",
      "text/latex": [
       "$$d f{\\left (x,y,z \\right )} = dx \\left(\\frac{1.0}{x^{0.75}} + 2 x y\\right) + dy \\left(x^{2} + 3 y^{2}\\right)$$"
      ],
      "text/plain": [
       "                  ⎛     -0.75        ⎞      ⎛ 2      2⎞\n",
       "d⋅f(x, y, z) = dx⋅⎝1.0⋅x      + 2⋅x⋅y⎠ + dy⋅⎝x  + 3⋅y ⎠"
      ]
     },
     "execution_count": 238,
     "metadata": {},
     "output_type": "execute_result"
    }
   ],
   "source": [
    "dg_ = sympy.Eq(df_.lhs, df_.rhs.subs(dz, 0))\n",
    "dg_"
   ]
  },
  {
   "cell_type": "markdown",
   "metadata": {
    "collapsed": true
   },
   "source": [
    "それだけです(´・ω・｀)"
   ]
  },
  {
   "cell_type": "markdown",
   "metadata": {
    "collapsed": false,
    "scrolled": true
   },
   "source": [
    "## 両辺を dx で割ってみる\n",
    "\n",
    "両辺を dx で割ります。"
   ]
  },
  {
   "cell_type": "code",
   "execution_count": 239,
   "metadata": {
    "collapsed": false
   },
   "outputs": [
    {
     "data": {
      "image/png": "[encoded data removed]",
      "text/latex": [
       "$$\\frac{d}{dx} f{\\left (x,y,z \\right )} = \\frac{1.0}{x^{0.75}} + 2 x y + \\frac{dy x^{2}}{dx} + \\frac{3 dy}{dx} y^{2} - \\frac{42 dz}{dx} z^{5}$$"
      ],
      "text/plain": [
       "                                        2         2          5\n",
       "d⋅f(x, y, z)        -0.75           dy⋅x    3⋅dy⋅y    42⋅dz⋅z \n",
       "──────────── = 1.0⋅x      + 2⋅x⋅y + ───── + ─────── - ────────\n",
       "     dx                               dx       dx        dx   "
      ]
     },
     "execution_count": 239,
     "metadata": {},
     "output_type": "execute_result"
    }
   ],
   "source": [
    "dh_ = sympy.expand(sympy.Eq(df_.lhs / dx, df_.rhs / dx))\n",
    "dh_"
   ]
  },
  {
   "cell_type": "markdown",
   "metadata": {},
   "source": [
    "結果を見やすく変形します。\n",
    "\n",
    "- expand … 式を展開する関数\n",
    "- collect … 指定した変数で括り出す関数\n",
    "- coeff … 係数を指定すると項の残りの部分を返す関数\n"
   ]
  },
  {
   "cell_type": "code",
   "execution_count": 240,
   "metadata": {
    "collapsed": false
   },
   "outputs": [
    {
     "data": {
      "image/png": "[encoded data removed]",
      "text/latex": [
       "$$\\frac{d}{dx} f{\\left (x,y,z \\right )} = \\frac{1.0}{x^{0.75}} + 2 x y + \\frac{1}{dx} \\left(dy x^{2} + 3 dy y^{2} - 42 dz z^{5}\\right)$$"
      ],
      "text/plain": [
       "                                        2         2          5\n",
       "d⋅f(x, y, z)        -0.75           dy⋅x  + 3⋅dy⋅y  - 42⋅dz⋅z \n",
       "──────────── = 1.0⋅x      + 2⋅x⋅y + ──────────────────────────\n",
       "     dx                                         dx            "
      ]
     },
     "execution_count": 240,
     "metadata": {},
     "output_type": "execute_result"
    }
   ],
   "source": [
    "dh_ = sympy.Eq(dh_.lhs.collect(dx), dh_.rhs.collect(dx))\n",
    "dh_"
   ]
  },
  {
   "cell_type": "code",
   "execution_count": 241,
   "metadata": {
    "collapsed": false
   },
   "outputs": [
    {
     "data": {
      "image/png": "[encoded data removed]",
      "text/latex": [
       "$$\\frac{d}{dx} f{\\left (x,y,z \\right )} = \\frac{1.0}{x^{0.75}} + 2 x y + \\frac{1}{dx} \\left(dy \\left(x^{2} + 3 y^{2}\\right) - 42 dz z^{5}\\right)$$"
      ],
      "text/plain": [
       "                                       ⎛ 2      2⎞          5\n",
       "d⋅f(x, y, z)        -0.75           dy⋅⎝x  + 3⋅y ⎠ - 42⋅dz⋅z \n",
       "──────────── = 1.0⋅x      + 2⋅x⋅y + ─────────────────────────\n",
       "     dx                                         dx           "
      ]
     },
     "execution_count": 241,
     "metadata": {},
     "output_type": "execute_result"
    }
   ],
   "source": [
    "tmp = dh_.rhs.coeff(1/dx)\n",
    "di_ = dh_.subs(tmp, tmp.collect(dy))\n",
    "di_"
   ]
  },
  {
   "cell_type": "markdown",
   "metadata": {
    "collapsed": false
   },
   "source": [
    "以上です(´・ω・｀)\n"
   ]
  },
  {
   "cell_type": "markdown",
   "metadata": {},
   "source": [
    "# おわりに\n",
    "\n",
    "本稿の残された課題として，それっぽい微分を右辺だけやった点が挙げられます。\n",
    "\n",
    "左辺を f(x, y, z) という形式で定義してしまったため，\n",
    "それっぽいやり方できれいに微分することができず，\n",
    "無理やり微分記号 d をくっつけるやり方になってしまいました。\n",
    "\n",
    "今後 SymPy を使っていく中で何かわかったらまた更新したいと思います。\n"
   ]
  }
 ],
 "metadata": {
  "kernelspec": {
   "display_name": "Python 3",
   "language": "python",
   "name": "python3"
  },
  "language_info": {
   "codemirror_mode": {
    "name": "ipython",
    "version": 3
   },
   "file_extension": ".py",
   "mimetype": "text/x-python",
   "name": "python",
   "nbconvert_exporter": "python",
   "pygments_lexer": "ipython3",
   "version": "3.6.0"
  }
 },
 "nbformat": 4,
 "nbformat_minor": 2
}
