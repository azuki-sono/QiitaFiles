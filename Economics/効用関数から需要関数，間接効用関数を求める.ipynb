{
 "cells": [
  {
   "cell_type": "markdown",
   "metadata": {},
   "source": [
    "# はじめに\n",
    "\n",
    "本稿は，西村和雄著『ミクロ経済学』の「2.3 需要の決定」に沿って書いています。\n",
    "\n",
    "技術的な話や経済学の話が入り混じることになるため読みづらいかと思いますが，\n",
    "読んだり試したりしたものを組み合わせてメモとして残したいと考えています。\n",
    "\n",
    "\n",
    "なお，使用している環境については下部に記載しています。\n"
   ]
  },
  {
   "cell_type": "markdown",
   "metadata": {},
   "source": [
    "# 設定\n",
    "\n",
    "## インテリセンスの有効化\n",
    "\n",
    "Jupyter Notebook ではデフォルトでインテリセンスが有効になっておらず，不便なため有効化します。\n"
   ]
  },
  {
   "cell_type": "code",
   "execution_count": 1,
   "metadata": {
    "collapsed": true
   },
   "outputs": [],
   "source": [
    "# %matplotlib inline\n",
    "%config IPCompleter.greedy=True"
   ]
  },
  {
   "cell_type": "markdown",
   "metadata": {},
   "source": [
    "# 使用するパッケージなど"
   ]
  },
  {
   "cell_type": "markdown",
   "metadata": {},
   "source": [
    "## SymPy\n",
    "\n",
    "数式を扱うので当該パッケージを使用します。\n",
    "init_printing は，数式を表示する際に使うようですが，よくわからないです(´・ω・｀)"
   ]
  },
  {
   "cell_type": "code",
   "execution_count": 2,
   "metadata": {
    "collapsed": true
   },
   "outputs": [],
   "source": [
    "import sympy\n",
    "from sympy import plot, init_printing, var, solve, symbols, Eq\n",
    "\n",
    "init_printing()"
   ]
  },
  {
   "cell_type": "markdown",
   "metadata": {},
   "source": [
    "## その他\n",
    "\n",
    "operator は演算子です。\n",
    "functools はリストを操作する際に使います。\n",
    "reduce は，総和とか総乗に使います。\n"
   ]
  },
  {
   "cell_type": "code",
   "execution_count": 3,
   "metadata": {
    "collapsed": true
   },
   "outputs": [],
   "source": [
    "from operator import mul, add\n",
    "from functools import reduce"
   ]
  },
  {
   "cell_type": "markdown",
   "metadata": {},
   "source": [
    "# 変数の定義"
   ]
  },
  {
   "cell_type": "markdown",
   "metadata": {},
   "source": [
    "## 通常の変数\n",
    "\n",
    "使用する変数を定義します。\n",
    "一部しか使わないのですが，とりあえず a ～ z を対象にします。\n",
    "\n",
    "なお，全微分する際に使いやすいように，定義したものをリストとして，sym_list へ格納しておきます。\n",
    "※まぁ今回は不要ですが。\n"
   ]
  },
  {
   "cell_type": "code",
   "execution_count": 4,
   "metadata": {
    "collapsed": false
   },
   "outputs": [
    {
     "data": {
      "image/png": "[encoded data removed]",
      "text/latex": [
       "$$\\left [ a, \\quad b, \\quad c, \\quad d, \\quad e, \\quad f, \\quad g, \\quad h, \\quad i, \\quad j, \\quad k, \\quad l, \\quad m, \\quad n, \\quad o, \\quad p, \\quad q, \\quad r, \\quad s, \\quad t, \\quad u, \\quad v, \\quad w, \\quad x, \\quad y, \\quad z\\right ]$$"
      ],
      "text/plain": [
       "[a, b, c, d, e, f, g, h, i, j, k, l, m, n, o, p, q, r, s, t, u, v, w, x, y, z]"
      ]
     },
     "execution_count": 4,
     "metadata": {},
     "output_type": "execute_result"
    }
   ],
   "source": [
    "sym_list = list(var(\"a:z\"))\n",
    "sym_list"
   ]
  },
  {
   "cell_type": "markdown",
   "metadata": {},
   "source": [
    "## 偏微分にて用いる記号\n",
    "\n",
    "わざわざ書くほどのことではないのですが，偏微分の記号を定義しておきます。\n",
    "※symbols として定義していない点に注意\n"
   ]
  },
  {
   "cell_type": "code",
   "execution_count": 5,
   "metadata": {
    "collapsed": false
   },
   "outputs": [],
   "source": [
    "rd = \"∂\""
   ]
  },
  {
   "cell_type": "markdown",
   "metadata": {},
   "source": [
    "## 財の消費量及び価格体系\n",
    "\n",
    "今回対象となる財の種類は2つとします。\n",
    "\n",
    "財の消費量は x とします。\n",
    "財の数だけ添え字を振っていくこととなるため，リスト内包表記を使います。\n",
    "\n",
    "価格は p とします。\n",
    "添字は財の種類と対応させています。"
   ]
  },
  {
   "cell_type": "code",
   "execution_count": 6,
   "metadata": {
    "collapsed": false
   },
   "outputs": [
    {
     "data": {
      "image/png": "[encoded data removed]",
      "text/latex": [
       "$$\\left ( \\left [ x_{1}, \\quad x_{2}\\right ], \\quad \\left [ p_{1}, \\quad p_{2}\\right ]\\right )$$"
      ],
      "text/plain": [
       "([x₁, x₂], [p₁, p₂])"
      ]
     },
     "execution_count": 6,
     "metadata": {},
     "output_type": "execute_result"
    }
   ],
   "source": [
    "N = 2\n",
    "\n",
    "x = [symbols(\"x\" + str(i+1)) for i in range(N)]\n",
    "p = [symbols(\"p\" + str(i+1)) for i in range(N)]\n",
    "x, p"
   ]
  },
  {
   "cell_type": "markdown",
   "metadata": {},
   "source": [
    "# 効用関数の定義\n",
    "\n",
    "ここでは財の消費量をすべて掛けたものを効用関数としています。\n",
    "逓減していないので，使えば使うほど効用が増すってことですかね(´・ω・｀)\n",
    "\n",
    "ちなみに mul は，掛け算を意味しています。\n",
    "\n",
    "reduce は引数として渡されたリストに対し，指定された演算子に従って計算します。\n",
    "※回りくどい言い方をしましたが，要するに総乗します。\n"
   ]
  },
  {
   "cell_type": "code",
   "execution_count": 7,
   "metadata": {
    "collapsed": false
   },
   "outputs": [
    {
     "data": {
      "image/png": "[encoded data removed]",
      "text/latex": [
       "$$u = x_{1} x_{2}$$"
      ],
      "text/plain": [
       "u = x₁⋅x₂"
      ]
     },
     "execution_count": 7,
     "metadata": {},
     "output_type": "execute_result"
    }
   ],
   "source": [
    "u_ = sympy.Eq(u, reduce(mul, x))\n",
    "u_"
   ]
  },
  {
   "cell_type": "markdown",
   "metadata": {},
   "source": [
    "# 予算制約式の定義\n",
    "\n",
    "予算を I とします。\n",
    "\n",
    "予算制約式は，\n",
    "「財の消費量 × 価格 をすべての財について足したものが予算と一致する式」\n",
    "ですね。\n",
    "\n",
    "zip 関数とリスト内包表記を使って掛けます。\n",
    "\n",
    "本当は予算以下であればいいのですが，効用を最大化させるという前提があるため，\n",
    "「使える予算はすべて使う」\n",
    "ということになり，上記の通り予算と一致することになります。\n"
   ]
  },
  {
   "cell_type": "code",
   "execution_count": 8,
   "metadata": {
    "collapsed": false
   },
   "outputs": [
    {
     "data": {
      "image/png": "[encoded data removed]",
      "text/latex": [
       "$$I = p_{1} x_{1} + p_{2} x_{2}$$"
      ],
      "text/plain": [
       "I = p₁⋅x₁ + p₂⋅x₂"
      ]
     },
     "execution_count": 8,
     "metadata": {},
     "output_type": "execute_result"
    }
   ],
   "source": [
    "I = sympy.Symbol(\"I\")\n",
    "\n",
    "i_ = sympy.Eq(I, sum([x * p for (x, p) in zip(x, p)]))\n",
    "i_"
   ]
  },
  {
   "cell_type": "markdown",
   "metadata": {},
   "source": [
    "# ラグランジュ関数の定義\n",
    "\n",
    "制約の中で効用を最大化させるため，ラグランジュの未定乗数法を使います。\n",
    "\n",
    "ラグランジュ乗数を λ，ラグランジュ関数を L とします。\n",
    "\n",
    "ラグランジュ関数についてですが，\n",
    "\n",
    "1. 予算制約式の右辺をすべて左辺に移行させる。\n",
    "1. ラグランジュ乗数を掛ける。\n",
    "1. ラグランジュ乗数を掛けたものを効用関数へ加算する。\n",
    "\n",
    "という手順で作ります。"
   ]
  },
  {
   "cell_type": "code",
   "execution_count": 9,
   "metadata": {
    "collapsed": false
   },
   "outputs": [
    {
     "data": {
      "image/png": "[encoded data removed]",
      "text/latex": [
       "$$L = x_{1} x_{2} + λ \\left(I - p_{1} x_{1} - p_{2} x_{2}\\right)$$"
      ],
      "text/plain": [
       "L = x₁⋅x₂ + λ⋅(I - p₁⋅x₁ - p₂⋅x₂)"
      ]
     },
     "execution_count": 9,
     "metadata": {},
     "output_type": "execute_result"
    }
   ],
   "source": [
    "rg = sympy.Symbol(\"λ\")\n",
    "L = sympy.Symbol(\"L\")\n",
    "\n",
    "con_ = i_.lhs - i_.rhs\n",
    "\n",
    "L_ = sympy.Eq(L, u_.rhs + rg * con_)\n",
    "L_"
   ]
  },
  {
   "cell_type": "markdown",
   "metadata": {},
   "source": [
    "# ラグランジュ関数を偏微分する"
   ]
  },
  {
   "cell_type": "markdown",
   "metadata": {},
   "source": [
    "## 偏微分する変数をリスト化する\n",
    "\n",
    "財の消費量とラグランジュ乗数で偏微分するためリスト化します。\n",
    "※以下，「偏微分リスト」と呼びます。"
   ]
  },
  {
   "cell_type": "code",
   "execution_count": 10,
   "metadata": {
    "collapsed": false
   },
   "outputs": [
    {
     "data": {
      "image/png": "[encoded data removed]",
      "text/latex": [
       "$$\\left [ x_{1}, \\quad x_{2}, \\quad λ\\right ]$$"
      ],
      "text/plain": [
       "[x₁, x₂, λ]"
      ]
     },
     "execution_count": 10,
     "metadata": {},
     "output_type": "execute_result"
    }
   ],
   "source": [
    "der_ = x\n",
    "der_.append(rg)\n",
    "der_"
   ]
  },
  {
   "cell_type": "markdown",
   "metadata": {},
   "source": [
    "## 偏微分する\n",
    "\n",
    "対象の関数について，偏微分リストの内容に基づいて偏微分します。\n"
   ]
  },
  {
   "cell_type": "code",
   "execution_count": 11,
   "metadata": {
    "collapsed": false
   },
   "outputs": [
    {
     "data": {
      "image/png": "[encoded data removed]",
      "text/latex": [
       "$$\\left [ \\frac{∂L}{∂x1} = - p_{1} λ + x_{2}, \\quad \\frac{∂L}{∂x2} = - p_{2} λ + x_{1}, \\quad \\frac{∂L}{∂λ} = I - p_{1} x_{1} - p_{2} x_{2}\\right ]$$"
      ],
      "text/plain": [
       "⎡ ∂L                ∂L               ∂L                    ⎤\n",
       "⎢─── = -p₁⋅λ + x₂, ─── = -p₂⋅λ + x₁, ── = I - p₁⋅x₁ - p₂⋅x₂⎥\n",
       "⎣∂x1               ∂x2               ∂λ                    ⎦"
      ]
     },
     "execution_count": 11,
     "metadata": {},
     "output_type": "execute_result"
    }
   ],
   "source": [
    "# 偏微分の対象となる関数\n",
    "der_l_ = L_.lhs\n",
    "\n",
    "# 偏微分\n",
    "f_der_ = [sympy.Eq(sympy.symbols(rd + str(der_l_)) / sympy.symbols(rd + str(li)), L_.rhs.diff(li)) for li in der_ if L_.rhs.diff(li) != 0]\n",
    "f_der_keys_ = [li.lhs for li in f_der_]\n",
    "\n",
    "f_der_"
   ]
  },
  {
   "cell_type": "markdown",
   "metadata": {},
   "source": [
    "# 一階条件を求める\n",
    "\n",
    "偏微分したものについて，一階条件を求めます。\n",
    "(各式の左辺を0をおきます。)\n"
   ]
  },
  {
   "cell_type": "code",
   "execution_count": 12,
   "metadata": {
    "collapsed": false
   },
   "outputs": [
    {
     "data": {
      "image/png": "[encoded data removed]",
      "text/latex": [
       "$$\\left [ - p_{1} λ + x_{2} = 0, \\quad - p_{2} λ + x_{1} = 0, \\quad I - p_{1} x_{1} - p_{2} x_{2} = 0\\right ]$$"
      ],
      "text/plain": [
       "[-p₁⋅λ + x₂ = 0, -p₂⋅λ + x₁ = 0, I - p₁⋅x₁ - p₂⋅x₂ = 0]"
      ]
     },
     "execution_count": 12,
     "metadata": {},
     "output_type": "execute_result"
    }
   ],
   "source": [
    "fod_ = [sympy.Eq(li.rhs, 0) for li in f_der_]\n",
    "fod_"
   ]
  },
  {
   "cell_type": "markdown",
   "metadata": {},
   "source": [
    "# 通常の需要関数を求める\n",
    "\n",
    "2財の場合はラグランジュ乗数と合わせて、3次元n次方程式になります。\n",
    "\n",
    "solve は，\n",
    "\n",
    "- 第1引数 … 対象の式\n",
    "- 第2引数 … 求める変数\n",
    "\n",
    "を指定することにより解が返ってきます。\n",
    "連立方程式の場合は，それらをリストとして渡します。\n",
    "\n",
    "そのため，ここではラグランジュ関数の一階条件のリストと偏微分リストを渡します。\n"
   ]
  },
  {
   "cell_type": "code",
   "execution_count": 13,
   "metadata": {
    "collapsed": false
   },
   "outputs": [
    {
     "data": {
      "image/png": "[encoded data removed]",
      "text/latex": [
       "$$\\left [ x_{1} = \\frac{I}{2 p_{1}}, \\quad x_{2} = \\frac{I}{2 p_{2}}, \\quad λ = \\frac{I}{2 p_{1} p_{2}}\\right ]$$"
      ],
      "text/plain": [
       "⎡      I          I           I   ⎤\n",
       "⎢x₁ = ────, x₂ = ────, λ = ───────⎥\n",
       "⎣     2⋅p₁       2⋅p₂      2⋅p₁⋅p₂⎦"
      ]
     },
     "execution_count": 13,
     "metadata": {},
     "output_type": "execute_result"
    }
   ],
   "source": [
    "result = sympy.solve(fod_, der_)\n",
    "result = [sympy.Eq(li, result[li]) for li in der_]\n",
    "\n",
    "result"
   ]
  },
  {
   "cell_type": "markdown",
   "metadata": {},
   "source": [
    "解のうち，左辺が財の消費量の式を「通常の需要関数」というようです。"
   ]
  },
  {
   "cell_type": "markdown",
   "metadata": {},
   "source": [
    "# 間接効用関数を求める\n",
    "\n",
    "通常の需要関数を効用関数へ代入します。\n",
    "\n",
    "subs は，\n",
    "\n",
    "- 第1引数 … 対象となる変数名\n",
    "- 第2引数 … 代入する値\n",
    "\n",
    "を指定することにより計算されます。\n",
    "しかし，今回のように代入したい値が複数ある場合には辞書型の引数を渡します。\n",
    "\n",
    "このため，\n",
    "\n",
    "- 第1引数 … {対象となる変数名 : 代入する値}\n",
    "\n",
    "といった形で指定します。"
   ]
  },
  {
   "cell_type": "code",
   "execution_count": 14,
   "metadata": {
    "collapsed": false
   },
   "outputs": [
    {
     "data": {
      "image/png": "[encoded data removed]",
      "text/latex": [
       "$$V = \\frac{I^{2}}{4 p_{1} p_{2}}$$"
      ],
      "text/plain": [
       "        2  \n",
       "       I   \n",
       "V = ───────\n",
       "    4⋅p₁⋅p₂"
      ]
     },
     "execution_count": 14,
     "metadata": {},
     "output_type": "execute_result"
    }
   ],
   "source": [
    "V = sympy.Symbol(\"V\")\n",
    "\n",
    "v_ = u_.subs({li.lhs : li.rhs for li in result})\n",
    "v_ = sympy.Eq(V, v_.rhs)\n",
    "\n",
    "v_\n"
   ]
  },
  {
   "cell_type": "markdown",
   "metadata": {},
   "source": [
    "定義により，効用関数は財の消費量の関数です。\n",
    "一方で，上記のように通常の需要関数を代入することにより，予算と価格体系の関数を導出することができました。\n",
    "\n",
    "この関数を「間接効用関数」というようです。\n",
    "間接効用関数は V とします。\n"
   ]
  },
  {
   "cell_type": "markdown",
   "metadata": {},
   "source": [
    "# ラグランジュ乗数の意味について\n",
    "\n",
    "通常の需要関数を求めたとき，解に左辺がラグランジュ乗数の式が含まれていました。\n",
    "ラグランジュ乗数とはそもそもどのようなものなのか，という話ですが，書籍の P.32 に以下の通り記載されています。\n",
    "\n",
    "> λは、“価格を一定として所得を1単位増加するときに、（需要の変化 dx1, …, dxn を通じて）得られる追加的効用”と等しい\n",
    "\n",
    "つまり、間接効用関数 V を所得 I で偏微分したものと等しくなるようです。\n"
   ]
  },
  {
   "cell_type": "code",
   "execution_count": 15,
   "metadata": {
    "collapsed": false
   },
   "outputs": [
    {
     "data": {
      "image/png": "[encoded data removed]",
      "text/latex": [
       "$$\\frac{I}{2 p_{1} p_{2}}$$"
      ],
      "text/plain": [
       "   I   \n",
       "───────\n",
       "2⋅p₁⋅p₂"
      ]
     },
     "execution_count": 15,
     "metadata": {},
     "output_type": "execute_result"
    }
   ],
   "source": [
    "rg_test_ = sympy.diff(v_.rhs, I)\n",
    "rg_test_"
   ]
  },
  {
   "cell_type": "markdown",
   "metadata": {},
   "source": [
    "偏微分した結果を，ラグランジュ乗数の式と比較します。"
   ]
  },
  {
   "cell_type": "code",
   "execution_count": 16,
   "metadata": {
    "collapsed": false,
    "scrolled": true
   },
   "outputs": [
    {
     "data": {
      "text/plain": [
       "True"
      ]
     },
     "execution_count": 16,
     "metadata": {},
     "output_type": "execute_result"
    }
   ],
   "source": [
    "re_ = [li.rhs for li in result if li.lhs == rg][0]\n",
    "\n",
    "rg_test_ == re_"
   ]
  },
  {
   "cell_type": "markdown",
   "metadata": {
    "collapsed": true
   },
   "source": [
    "無事に一致しましたね(´・ω・｀)"
   ]
  },
  {
   "cell_type": "markdown",
   "metadata": {},
   "source": [
    "# おわりに\n",
    "\n",
    "題材とした『ミクロ経済学』は丁寧に解説が書かれています。\n",
    "内容としては，恐らく手を動かしながら数式を解いていくことを前提としているように思えます。\n",
    "\n",
    "実際に数式を解いていくうえでは非常にありがたかったりするのですが，\n",
    "そもそもどのような意図でそのような操作を行っているのかが見えづらかったりします。\n",
    "\n",
    "そこで，「数式を Python で解いてみる」という試みにより，\n",
    "別の角度から理解することができたように思います。\n",
    "\n",
    "今後も今回のように SymPy を使って『ミクロ経済学』を読んでいきたいと思います。\n",
    "まだまだ不勉強ではありますが，「Python を使って『ミクロ経済学』を読む」みたいなシリーズでも書いてみたいですね。\n",
    "\n",
    "※結構時間が掛かるので更新頻度は少ないかと思いますが(´・ω・｀)\n",
    "\n"
   ]
  },
  {
   "cell_type": "markdown",
   "metadata": {},
   "source": [
    "## 補足\n",
    "\n",
    "\n",
    "### 使用している環境について\n",
    "\n",
    "今回使っていないものも含まれていますが，念のため載せておきます。\n",
    "\n",
    "| IDEとかパッケージとか     | バージョン                           |\n",
    "|:--------------------------|:-------------------------------------|\n",
    "| Python                    | 3.6.0                                |\n",
    "| Anaconda                  | 4.3.0 (64-bit)                       |\n",
    "| PyCharm                   | 2018.1.2 (Community Edition)         |\n",
    "| numpy                     | 1.16.0                               |\n",
    "| sympy                     | 1.3                                  |\n",
    "| matplotlib                | 3.0.2                                |\n",
    "\n"
   ]
  }
 ],
 "metadata": {
  "kernelspec": {
   "display_name": "Python 3",
   "language": "python",
   "name": "python3"
  },
  "language_info": {
   "codemirror_mode": {
    "name": "ipython",
    "version": 3
   },
   "file_extension": ".py",
   "mimetype": "text/x-python",
   "name": "python",
   "nbconvert_exporter": "python",
   "pygments_lexer": "ipython3",
   "version": "3.6.0"
  }
 },
 "nbformat": 4,
 "nbformat_minor": 2
}
